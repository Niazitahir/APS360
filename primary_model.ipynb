{
  "cells": [
    {
      "cell_type": "markdown",
      "metadata": {
        "id": "ldoz8l5mTVLT"
      },
      "source": [
        "# Retrieve Raw Data From GitHub"
      ]
    },
    {
      "cell_type": "code",
      "execution_count": 2,
      "metadata": {
        "id": "H0Fn4K_pTRNb"
      },
      "outputs": [],
      "source": [
        "import requests\n",
        "import io\n",
        "import csv\n",
        "import torch\n",
        "from torchtext.vocab import build_vocab_from_iterator\n",
        "from torch.nn.utils.rnn import pad_sequence\n",
        "from torch.utils.data import Sampler\n",
        "import random\n",
        "\n",
        "\n",
        "random.seed(69)\n",
        "torch.manual_seed(420)\n",
        "\n",
        "\n",
        "def get_sentences():\n",
        "    urls = []\n",
        "    urls.append('https://raw.githubusercontent.com/Niazitahir/SMS_Spam_Detection_APS360/main/RawData/trainEncoded')\n",
        "    urls.append('https://raw.githubusercontent.com/Niazitahir/SMS_Spam_Detection_APS360/main/RawData/validEncoded')\n",
        "    urls.append('https://raw.githubusercontent.com/Niazitahir/SMS_Spam_Detection_APS360/main/RawData/testEncoded')\n",
        "    raws = [requests.get(u).text for u in urls]\n",
        "    separated = [csv.reader(io.StringIO(r)) for r in raws]\n",
        "    processed = [[], [], []]\n",
        "    for i in range(len(separated)):\n",
        "        for row in separated[i]:\n",
        "            idxs = row[2][1:-1].split(', ')\n",
        "            if idxs[0] == '': continue\n",
        "            idxs = list(map(int, idxs))\n",
        "            idxs = torch.tensor([i % 10000 for i in idxs])\n",
        "            label = torch.tensor(int(row[1] == '[76645]')).long()\n",
        "            processed[i].append((idxs, label))\n",
        "\n",
        "    return processed[0], processed[1], processed[2]\n",
        "\n",
        "\n",
        "def get_sentences_2(glove):\n",
        "    url = 'https://raw.githubusercontent.com/Niazitahir/SMS_Spam_Detection_APS360/main/RawData/sms%2Bspam%2Bcollection/SMSSpamCollection'\n",
        "    separated = csv.reader(io.StringIO(requests.get(url).text), delimiter='\\t')\n",
        "    spam, ham = [], []\n",
        "    for row in separated:\n",
        "        sentence = row[1].replace('.', ' . ') \\\n",
        "            .replace(',', ' , ') \\\n",
        "            .replace(';', ' ; ') \\\n",
        "            .replace('?', ' ? ')\n",
        "        sentence = sentence.lower().split()\n",
        "        idxs = [glove.stoi[w] for w in sentence if w in glove.stoi]\n",
        "        if not idxs: continue\n",
        "        idxs = torch.tensor(idxs)\n",
        "        label = torch.tensor(int(row[0] == 'spam')).long()\n",
        "        if label.item() == 1:\n",
        "            spam.append((idxs, label))\n",
        "        elif label.item() == 0:\n",
        "            ham.append((idxs, label))\n",
        "\n",
        "    train, valid, test = [], [], []\n",
        "    for i, example in enumerate(spam):\n",
        "        if i % 5 < 3:\n",
        "            train.append(example)\n",
        "        elif i % 5 == 3:\n",
        "            valid.append(example)\n",
        "        else:\n",
        "            test.append(example)\n",
        "\n",
        "    train = [example for example in train for _ in range(6)]\n",
        "    for i, example in enumerate(ham):\n",
        "        if i % 5 < 3:\n",
        "            train.append(example)\n",
        "        elif i % 5 == 3:\n",
        "            valid.append(example)\n",
        "        else:\n",
        "            test.append(example)\n",
        "\n",
        "    return train, valid, test\n",
        "\n",
        "\n",
        "def get_sentences_3():\n",
        "    url = 'https://raw.githubusercontent.com/Niazitahir/SMS_Spam_Detection_APS360/main/RawData/sms%2Bspam%2Bcollection/SMSSpamCollection'\n",
        "    separated = csv.reader(io.StringIO(requests.get(url).text), delimiter='\\t')\n",
        "    spam, ham = [], []\n",
        "    for row in separated:\n",
        "        if row[1] == '': continue\n",
        "        label = int(row[0] == 'spam')\n",
        "        if label == 1:\n",
        "            spam.append((label, row[1]))\n",
        "        elif label == 0:\n",
        "            ham.append((label, row[1]))\n",
        "\n",
        "    train, valid, test = [], [], []\n",
        "    for i, example in enumerate(spam):\n",
        "        if i % 5 < 3:\n",
        "            train.append(example)\n",
        "        elif i % 5 == 3:\n",
        "            valid.append(example)\n",
        "        else:\n",
        "            test.append(example)\n",
        "\n",
        "    train = [example for example in train for _ in range(6)]\n",
        "    for i, example in enumerate(ham):\n",
        "        if i % 5 < 3:\n",
        "            train.append(example)\n",
        "        elif i % 5 == 3:\n",
        "            valid.append(example)\n",
        "        else:\n",
        "            test.append(example)\n",
        "\n",
        "    return train, valid, test\n",
        "\n",
        "\n",
        "def yield_tokens(sentences):\n",
        "    for _, sentence in sentences:\n",
        "        yield tokenizer_c(sentence)\n",
        "\n",
        "\n",
        "def get_vocab(sentences):\n",
        "    vocab = build_vocab_from_iterator(yield_tokens(sentences),\n",
        "                                      specials=['<UNK>', '<BOS>', '<EOS>', '<PAD>'],\n",
        "                                      max_tokens=20000)\n",
        "    vocab.set_default_index(vocab['<UNK>'])\n",
        "    return vocab\n",
        "\n",
        "\n",
        "def collate_batch(batch):\n",
        "    label_list, word_list, char_list = [], [], []\n",
        "    for (_label, _sentence) in batch:\n",
        "          label_list.append(_label)\n",
        "          word_list.append(torch.tensor(sentence_transform_w(_sentence)))\n",
        "          char_list.append(torch.tensor(sentence_transform_c(_sentence)))\n",
        "    word_sequence = pad_sequence(word_list, batch_first=True, padding_value=3.0)\n",
        "    char_sequence = pad_sequence(char_list, batch_first=True, padding_value=3.0)\n",
        "    return torch.tensor(label_list), torch.cat((word_sequence,\n",
        "                                                torch.tensor([-1]).expand(len(batch), 1),\n",
        "                                                char_sequence), 1)\n",
        "\n",
        "\n",
        "class BatchSamplerSimilarLength(Sampler):\n",
        "    def __init__(self, sentences, batch_size, indices=None, shuffle=True):\n",
        "        self.batch_size = batch_size\n",
        "        self.shuffle = shuffle\n",
        "        self.indices = [(i, len(tokenizer_w(s[1])) + len(tokenizer_c(s[1]))) for i, s\n",
        "                        in enumerate(sentences)]\n",
        "        if indices is not None:\n",
        "            self.indices = torch.tensor(self.indices)[indices].tolist()\n",
        "\n",
        "\n",
        "    def __iter__(self):\n",
        "        if self.shuffle: random.shuffle(self.indices)\n",
        "        pooled_indices = []\n",
        "        for i in range(0, len(self.indices), self.batch_size * 100):\n",
        "            pooled_indices.extend(sorted(self.indices[i:i + self.batch_size * 100],\n",
        "                                         key=lambda x: x[1]))\n",
        "\n",
        "        self.pooled_indices = [x[0] for x in pooled_indices]\n",
        "        batches = [self.pooled_indices[i:i + self.batch_size] for i in\n",
        "                   range(0, len(self.pooled_indices), self.batch_size)]\n",
        "        if self.shuffle:\n",
        "            random.shuffle(batches)\n",
        "\n",
        "        for batch in batches:\n",
        "            yield batch\n",
        "\n",
        "\n",
        "    def __len__(self):\n",
        "        return len(self.pooled_indices) // self.batch_size"
      ]
    },
    {
      "cell_type": "markdown",
      "metadata": {
        "id": "cYPVz2PxsL2y"
      },
      "source": [
        "# Batch Data With Similar Length Randomly"
      ]
    },
    {
      "cell_type": "code",
      "execution_count": 3,
      "metadata": {
        "id": "Y19TPe86xTJf"
      },
      "outputs": [],
      "source": [
        "class Batcher:\n",
        "    def __init__(self, sentences, batch_size=32, drop_last=False):\n",
        "        self.batch_size = batch_size\n",
        "        self.sentences_by_length = {}\n",
        "        for sentence, label in sentences:\n",
        "            len = sentence.size(0)\n",
        "            if len not in self.sentences_by_length:\n",
        "                self.sentences_by_length[len] = []\n",
        "\n",
        "            self.sentences_by_length[len].append((sentence, label))\n",
        "\n",
        "        self.loaders = {len: torch.utils.data.DataLoader(\n",
        "                sentences,\n",
        "                batch_size=batch_size,\n",
        "                shuffle=True,\n",
        "                drop_last=drop_last) for len, sentences in self.sentences_by_length.items()}\n",
        "\n",
        "\n",
        "    def __iter__(self):\n",
        "        iters = [iter(loader) for loader in self.loaders.values()]\n",
        "        while iters:\n",
        "            it = random.choice(iters)\n",
        "            try:\n",
        "                yield next(it)\n",
        "\n",
        "            except StopIteration:\n",
        "                iters.remove(it)"
      ]
    },
    {
      "cell_type": "markdown",
      "metadata": {
        "id": "X04Jtrvuf2Pg"
      },
      "source": [
        "# Create GRU and LSTM Network Models"
      ]
    },
    {
      "cell_type": "code",
      "execution_count": 4,
      "metadata": {
        "id": "_ew7AG8_qEAw"
      },
      "outputs": [],
      "source": [
        "import torch.nn as nn\n",
        "\n",
        "\n",
        "class GRUNet(nn.Module):\n",
        "    def __init__(self, input_size, hidden_size, num_classes, glove, num_layers=1):\n",
        "        super(GRUNet, self).__init__()\n",
        "        self.name = 'GRU'\n",
        "        self.hidden_size = hidden_size\n",
        "        self.num_layers = num_layers\n",
        "        self.emb = nn.Embedding.from_pretrained(glove.vectors)\n",
        "        self.rnn = nn.GRU(input_size, hidden_size, num_layers, batch_first=True)\n",
        "        self.fc = nn.Linear(hidden_size, num_classes)\n",
        "\n",
        "\n",
        "    def forward(self, x, hidden=None):\n",
        "        x = self.emb(x)\n",
        "        out, _ = self.rnn(x, hidden)\n",
        "        out = self.fc(out[:, -1, :])\n",
        "        return out\n",
        "\n",
        "\n",
        "class LSTMNet(nn.Module):\n",
        "    def __init__(self, input_size, hidden_size, num_classes, glove, num_layers=1):\n",
        "        super(LSTMNet, self).__init__()\n",
        "        self.name = 'LSTM'\n",
        "        self.hidden_size = hidden_size\n",
        "        self.num_layers = num_layers\n",
        "        self.emb = nn.Embedding.from_pretrained(glove.vectors)\n",
        "        self.rnn = nn.LSTM(input_size, hidden_size, num_layers, batch_first=True)\n",
        "        self.fc = nn.Linear(hidden_size, num_classes)\n",
        "\n",
        "\n",
        "    def forward(self, x, h0c0=None):\n",
        "        x = self.emb(x)\n",
        "        out, _ = self.rnn(x, h0c0)\n",
        "        out = self.fc(out[:, -1, :])\n",
        "        return out\n",
        "\n",
        "\n",
        "class LSTMNet_2(nn.Module):\n",
        "    def __init__(self, input_size, hidden_size, num_classes, glove, num_layers=1):\n",
        "        super(LSTMNet_2, self).__init__()\n",
        "        self.name = 'LSTM2'\n",
        "        self.hidden_size = hidden_size\n",
        "        self.num_layers = num_layers\n",
        "        self.emb = nn.Embedding.from_pretrained(glove.vectors)\n",
        "        self.rnn = nn.LSTM(input_size, hidden_size, num_layers, batch_first=True)\n",
        "        self.fc = nn.Linear(hidden_size * 2, num_classes)\n",
        "\n",
        "\n",
        "    def forward(self, x, h0c0=None):\n",
        "        x = self.emb(x)\n",
        "        out, _ = self.rnn(x, h0c0)\n",
        "        out = torch.cat([torch.max(out, dim=1)[0], torch.mean(out, dim=1)], dim=1)\n",
        "        out = self.fc(out)\n",
        "        return out\n",
        "\n",
        "\n",
        "class LSTMNet_3(nn.Module):\n",
        "    def __init__(self, input_size_w, input_size_c, hidden_size_w, hidden_size_c,\n",
        "                 num_classes, glove, num_layers_w=1, num_layers_c=1):\n",
        "        super(LSTMNet_3, self).__init__()\n",
        "        self.name = 'LSTM3'\n",
        "        self.hidden_size_w = hidden_size_w\n",
        "        self.hidden_size_c = hidden_size_c\n",
        "        self.num_layers_w = num_layers_w\n",
        "        self.num_layers_c = num_layers_c\n",
        "        pretrained_embeddings = glove.vectors\n",
        "        pretrained_embeddings = torch.cat((torch.zeros(4, pretrained_embeddings.shape[1]),\n",
        "                                           pretrained_embeddings))\n",
        "        self.emb = nn.Embedding.from_pretrained(pretrained_embeddings)\n",
        "        self.eye = torch.eye(input_size_c)\n",
        "        if torch.cuda.is_available(): self.eye = torch.eye(input_size_c, device='cuda').cuda()\n",
        "        self.rnn_w = nn.LSTM(input_size_w, hidden_size_w, num_layers_w, batch_first=True)\n",
        "        self.rnn_c = nn.LSTM(input_size_c, hidden_size_c, num_layers_c, batch_first=True)\n",
        "        self.fc = nn.Linear(hidden_size_w + hidden_size_c, num_classes)\n",
        "\n",
        "\n",
        "    def forward(self, x, h0c0_w=None, h0c0_c=None):\n",
        "        div = torch.nonzero(x[0].eq(-1))[0, 0].item()\n",
        "        w = self.emb(x[:, :div])\n",
        "        c = self.eye[x[:, div + 1:]]\n",
        "        out_w, _ = self.rnn_w(w, h0c0_w)\n",
        "        out_c, _ = self.rnn_c(c, h0c0_c)\n",
        "        length_w = (torch.sum(torch.where(x[:, :div] != 3, 1, 0),\n",
        "                              dim=1,\n",
        "                              keepdim=True) - 1).expand(-1, self.hidden_size_w).unsqueeze(1)\n",
        "        length_c = (torch.sum(torch.where(x[:, div + 1:] != 3, 1, 0),\n",
        "                              dim=1,\n",
        "                              keepdim=True) - 1).expand(-1, self.hidden_size_c).unsqueeze(1)\n",
        "        out_w = out_w.gather(1, length_w).squeeze(1)\n",
        "        out_c = out_c.gather(1, length_c).squeeze(1)\n",
        "        out = torch.cat((out_w, out_c), dim=1)\n",
        "        out = self.fc(out)\n",
        "        return out"
      ]
    },
    {
      "cell_type": "markdown",
      "metadata": {
        "id": "lVeEiqIFunap"
      },
      "source": [
        "# Evaluate Model Accuracy on Selected Data"
      ]
    },
    {
      "cell_type": "code",
      "execution_count": 5,
      "metadata": {
        "id": "LdMCjDhg0py9"
      },
      "outputs": [],
      "source": [
        "def get_accuracy(model, loader):\n",
        "    correct, total = 0, 0\n",
        "    for labels, sentences in loader:\n",
        "        if torch.cuda.is_available():\n",
        "            sentences = sentences.cuda()\n",
        "            labels = labels.cuda()\n",
        "\n",
        "        output = model(sentences)\n",
        "        pred = output.max(1, keepdim=True)[1]\n",
        "        correct += pred.eq(labels.view_as(pred)).sum().item()\n",
        "        total += labels.size(0)\n",
        "\n",
        "    return correct / total"
      ]
    },
    {
      "cell_type": "markdown",
      "metadata": {
        "id": "LCq9ptWLHv81"
      },
      "source": [
        "# Generate File Path to Save Network Model"
      ]
    },
    {
      "cell_type": "code",
      "execution_count": 6,
      "metadata": {
        "id": "NcWnpEzRHvnQ"
      },
      "outputs": [],
      "source": [
        "def get_file_path(name, glove, batch_size, hidden_size, num_layers, learning_rate):\n",
        "    path = '{0}_{1}_bs{2}_hs{3}_nl{4}_lr{5}_'.format(name,\n",
        "                                                     glove,\n",
        "                                                     batch_size,\n",
        "                                                     hidden_size,\n",
        "                                                     num_layers,\n",
        "                                                     learning_rate)\n",
        "    return '/content/drive/MyDrive/Colab/' + path"
      ]
    },
    {
      "cell_type": "markdown",
      "metadata": {
        "id": "EF3RZSwJzhwY"
      },
      "source": [
        "# Train Network Model"
      ]
    },
    {
      "cell_type": "code",
      "execution_count": 7,
      "metadata": {
        "id": "BgbuDk7P0t38"
      },
      "outputs": [],
      "source": [
        "import torch.optim as optim\n",
        "import numpy as np\n",
        "import matplotlib.pyplot as plt\n",
        "\n",
        "\n",
        "def train_network(model, train, valid, num_epochs=5, learning_rate=1e-5):\n",
        "    criterion = nn.CrossEntropyLoss()\n",
        "    optimizer = optim.Adam(model.parameters(), lr=learning_rate)\n",
        "    losses, train_acc, valid_acc = [], [], []\n",
        "    for epoch in range(num_epochs):\n",
        "        for labels, sentences in train:\n",
        "            if torch.cuda.is_available():\n",
        "                sentences = sentences.cuda()\n",
        "                labels = labels.cuda()\n",
        "\n",
        "            optimizer.zero_grad()\n",
        "            pred = model(sentences)\n",
        "            loss = criterion(pred, labels)\n",
        "            loss.backward()\n",
        "            optimizer.step()\n",
        "\n",
        "        losses.append(float(loss))\n",
        "        train_acc.append(get_accuracy(model, train))\n",
        "        valid_acc.append(get_accuracy(model, valid))\n",
        "        print('Epoch %d; Loss %f; Train Acc %f; Valid Acc %f' % (epoch,\n",
        "                                                                 loss,\n",
        "                                                                 train_acc[-1],\n",
        "                                                                 valid_acc[-1]))\n",
        "        path = get_file_path(model.name,\n",
        "                             'twi50',\n",
        "                             16,\n",
        "                             model.hidden_size_w,\n",
        "                             model.num_layers_w,\n",
        "                             learning_rate)\n",
        "        torch.save(model.state_dict(), path + str(epoch))\n",
        "\n",
        "    np.savetxt('{}losses.csv'.format(path), losses)\n",
        "    np.savetxt('{}train.csv'.format(path), train_acc)\n",
        "    np.savetxt('{}valid.csv'.format(path), valid_acc)\n",
        "\n",
        "    plt.title('Loss Curve')\n",
        "    plt.plot(losses, label='Training')\n",
        "    plt.xlabel('Epoch')\n",
        "    plt.ylabel('Loss')\n",
        "    plt.show()\n",
        "\n",
        "    plt.title('Accuracy Curve')\n",
        "    plt.plot(train_acc, label='Training')\n",
        "    plt.plot(valid_acc, label='Validation')\n",
        "    plt.xlabel('Epoch')\n",
        "    plt.ylabel('Accuracy')\n",
        "    plt.legend(loc='best')\n",
        "    plt.show()"
      ]
    },
    {
      "cell_type": "markdown",
      "metadata": {
        "id": "fI0k-KmFTWdh"
      },
      "source": [
        "# Evaluate Network Model"
      ]
    },
    {
      "cell_type": "code",
      "execution_count": 8,
      "metadata": {
        "id": "rumPngaLTbJ9"
      },
      "outputs": [],
      "source": [
        "def get_scores(model, loader):\n",
        "    tp, tn, fp, fn = 0, 0, 0, 0\n",
        "    for labels, sentences in loader:\n",
        "        if torch.cuda.is_available():\n",
        "            sentences = sentences.cuda()\n",
        "            labels = labels.cuda()\n",
        "\n",
        "        output = model(sentences)\n",
        "        pred = output.max(1, keepdim=True)[1]\n",
        "        results = pred * 2 + labels.view_as(pred)\n",
        "        tp += results.eq(3).sum().item()\n",
        "        tn += results.eq(0).sum().item()\n",
        "        fp += results.eq(2).sum().item()\n",
        "        fn += results.eq(1).sum().item()\n",
        "\n",
        "    print('TP', tp, 'TN', tn, 'FP', fp, 'FN', fn)\n",
        "    print('False Positive Rate', fp / (fp + tn))\n",
        "    print('False Negative Rate', fn / (fn + tp))\n",
        "    recall = tp / (tp + fn)\n",
        "    precision = tp / (tp + fp)\n",
        "    print('Recall', recall)\n",
        "    print('Precision', precision)\n",
        "    print('F1 Score', 2 * recall * precision / (recall + precision))"
      ]
    },
    {
      "cell_type": "markdown",
      "metadata": {
        "id": "xWB_13Oy-4-Y"
      },
      "source": [
        "# Plot Training Curves of Selected Network Model"
      ]
    },
    {
      "cell_type": "code",
      "execution_count": 9,
      "metadata": {
        "id": "9mnRFEpL-3w9"
      },
      "outputs": [],
      "source": [
        "def plot_training_curves(path):\n",
        "    losses = np.loadtxt('{}losses.csv'.format(path))\n",
        "    train_acc = np.loadtxt('{}train.csv'.format(path))\n",
        "    valid_acc = np.loadtxt('{}valid.csv'.format(path))\n",
        "\n",
        "    plt.title('Loss Curve')\n",
        "    plt.plot(losses, label='Training')\n",
        "    plt.xlabel('Epoch')\n",
        "    plt.ylabel('Loss')\n",
        "    plt.show()\n",
        "\n",
        "    plt.title('Accuracy Curve')\n",
        "    plt.plot(train_acc, label='Training')\n",
        "    plt.plot(valid_acc, label='Validation')\n",
        "    plt.xlabel('Epoch')\n",
        "    plt.ylabel('Accuracy')\n",
        "    plt.legend(loc='best')\n",
        "    plt.show()"
      ]
    },
    {
      "cell_type": "markdown",
      "metadata": {
        "id": "3K8M-6dH3tkm"
      },
      "source": [
        "# Detect Spam on Sample SMS Message"
      ]
    },
    {
      "cell_type": "code",
      "execution_count": 10,
      "metadata": {
        "id": "eHyL-5USiE4A"
      },
      "outputs": [],
      "source": [
        "import torch.nn.functional as F\n",
        "\n",
        "\n",
        "def evaluate_sample(sample, model, glove):\n",
        "    sentence = sample.replace('.', ' . ') \\\n",
        "        .replace(',', ' , ') \\\n",
        "        .replace(';', ' ; ') \\\n",
        "        .replace('?', ' ? ')\n",
        "    sentence = sentence.lower().split()\n",
        "    idxs = torch.tensor([glove.stoi[w] for w in sentence if w in glove.stoi])\n",
        "    if torch.cuda.is_available(): idxs = idxs.cuda()\n",
        "    pred = model(idxs.unsqueeze(0))\n",
        "    pred = F.softmax(pred, dim=1)[0, 1].item()\n",
        "    print(sample)\n",
        "    print('Probability of Spam', pred)\n",
        "\n",
        "\n",
        "def evaluate_sample_2(sample, model, transform_w, transform_c):\n",
        "    idxs = torch.tensor(sentence_transform_w(sample) + [-1] + sentence_transform_c(sample))\n",
        "    if torch.cuda.is_available(): idxs = idxs.cuda()\n",
        "    pred = model(idxs.unsqueeze(0))\n",
        "    pred = F.softmax(pred, dim=1)[0, 1].item()\n",
        "    print(sample)\n",
        "    print('Probability of Spam', pred)"
      ]
    },
    {
      "cell_type": "markdown",
      "metadata": {
        "id": "7xQC45b4qNHG"
      },
      "source": [
        "# Create Objects and Run Functions"
      ]
    },
    {
      "cell_type": "code",
      "execution_count": 12,
      "metadata": {
        "colab": {
          "base_uri": "https://localhost:8080/"
        },
        "id": "jKWpSIPk8WS0",
        "outputId": "166b0236-8412-467a-aea4-e1ad025b1010"
      },
      "outputs": [
        {
          "output_type": "stream",
          "name": "stdout",
          "text": [
            "Mounted at /content/drive\n"
          ]
        }
      ],
      "source": [
        "from google.colab import drive\n",
        "drive.mount('/content/drive')"
      ]
    },
    {
      "cell_type": "code",
      "execution_count": 28,
      "metadata": {
        "colab": {
          "base_uri": "https://localhost:8080/"
        },
        "id": "zl07yVMIIL57",
        "outputId": "52b12e5e-4496-40ee-86f6-dd185057429f"
      },
      "outputs": [
        {
          "output_type": "stream",
          "name": "stdout",
          "text": [
            "Wed Apr  3 08:45:15 2024       \n",
            "+---------------------------------------------------------------------------------------+\n",
            "| NVIDIA-SMI 535.104.05             Driver Version: 535.104.05   CUDA Version: 12.2     |\n",
            "|-----------------------------------------+----------------------+----------------------+\n",
            "| GPU  Name                 Persistence-M | Bus-Id        Disp.A | Volatile Uncorr. ECC |\n",
            "| Fan  Temp   Perf          Pwr:Usage/Cap |         Memory-Usage | GPU-Util  Compute M. |\n",
            "|                                         |                      |               MIG M. |\n",
            "|=========================================+======================+======================|\n",
            "|   0  Tesla T4                       Off | 00000000:00:04.0 Off |                    0 |\n",
            "| N/A   73C    P0              29W /  70W |   1141MiB / 15360MiB |      0%      Default |\n",
            "|                                         |                      |                  N/A |\n",
            "+-----------------------------------------+----------------------+----------------------+\n",
            "                                                                                         \n",
            "+---------------------------------------------------------------------------------------+\n",
            "| Processes:                                                                            |\n",
            "|  GPU   GI   CI        PID   Type   Process name                            GPU Memory |\n",
            "|        ID   ID                                                             Usage      |\n",
            "|=======================================================================================|\n",
            "+---------------------------------------------------------------------------------------+\n"
          ]
        }
      ],
      "source": [
        "import torchtext\n",
        "from torchtext.data.utils import get_tokenizer\n",
        "from torch.utils.data import DataLoader\n",
        "\n",
        "\n",
        "!nvidia-smi\n",
        "\n",
        "random.seed(69)\n",
        "torch.manual_seed(420)\n",
        "\n",
        "train, valid, test = get_sentences_3()\n",
        "\n",
        "tokenizer_w = get_tokenizer('basic_english')\n",
        "tokenizer_c = get_tokenizer(lambda x: list(x))\n",
        "\n",
        "glove_vectors = torchtext.vocab.GloVe(name='twitter.27B', dim=50)\n",
        "vocab_w = torchtext.vocab.vocab(glove_vectors.stoi)\n",
        "vocab_w.insert_token('<UNK>', 0)\n",
        "vocab_w.insert_token('<BOS>', 1)\n",
        "vocab_w.insert_token('<EOS>', 2)\n",
        "vocab_w.insert_token('<PAD>', 3)\n",
        "vocab_w.set_default_index(0)\n",
        "vocab_c = get_vocab(train)\n",
        "\n",
        "sentence_transform_w = lambda x: [vocab_w['<BOS>']] + [vocab_w[token] for token in\n",
        "                                                       tokenizer_w(x)] + [vocab_w['<EOS>']]\n",
        "sentence_transform_c = lambda x: [vocab_c['<BOS>']] + [vocab_c[token] for token in\n",
        "                                                       tokenizer_c(x)] + [vocab_c['<EOS>']]\n",
        "\n",
        "train_loader = DataLoader(train, batch_sampler=BatchSamplerSimilarLength(\n",
        "    sentences=train,\n",
        "    batch_size=16), collate_fn=collate_batch)\n",
        "valid_loader = DataLoader(valid, batch_sampler=BatchSamplerSimilarLength(\n",
        "    sentences=valid,\n",
        "    batch_size=16), collate_fn=collate_batch)\n",
        "test_loader = DataLoader(test, batch_sampler=BatchSamplerSimilarLength(\n",
        "    sentences=test,\n",
        "    batch_size=16), collate_fn=collate_batch)"
      ]
    },
    {
      "cell_type": "code",
      "execution_count": 14,
      "metadata": {
        "colab": {
          "base_uri": "https://localhost:8080/",
          "height": 1000
        },
        "id": "L3JH1nnXZyZY",
        "outputId": "16e11bc6-64dd-4f19-ea09-64c9e299db8b"
      },
      "outputs": [
        {
          "output_type": "stream",
          "name": "stdout",
          "text": [
            "CUDA is available! Training on GPU...\n",
            "Epoch 0; Loss 0.186115; Train Acc 0.573985; Valid Acc 0.291741\n",
            "Epoch 1; Loss 0.101268; Train Acc 0.928789; Valid Acc 0.954219\n",
            "Epoch 2; Loss 0.119836; Train Acc 0.939524; Valid Acc 0.963196\n",
            "Epoch 3; Loss 0.059311; Train Acc 0.949544; Valid Acc 0.962298\n",
            "Epoch 4; Loss 0.143440; Train Acc 0.962426; Valid Acc 0.962298\n",
            "Epoch 5; Loss 0.029518; Train Acc 0.966362; Valid Acc 0.962298\n",
            "Epoch 6; Loss 0.008374; Train Acc 0.968688; Valid Acc 0.965889\n",
            "Epoch 7; Loss 0.354912; Train Acc 0.976382; Valid Acc 0.965889\n",
            "Epoch 8; Loss 0.013593; Train Acc 0.980855; Valid Acc 0.967684\n",
            "Epoch 9; Loss 0.016723; Train Acc 0.984792; Valid Acc 0.973968\n",
            "Epoch 10; Loss 0.008745; Train Acc 0.943818; Valid Acc 0.976661\n",
            "Epoch 11; Loss 0.010422; Train Acc 0.982466; Valid Acc 0.976661\n",
            "Epoch 12; Loss 0.005383; Train Acc 0.991412; Valid Acc 0.976661\n",
            "Epoch 13; Loss 0.008342; Train Acc 0.993559; Valid Acc 0.977558\n",
            "Epoch 14; Loss 0.027050; Train Acc 0.993201; Valid Acc 0.977558\n",
            "Epoch 15; Loss 0.010205; Train Acc 0.993559; Valid Acc 0.981149\n",
            "Epoch 16; Loss 0.039520; Train Acc 0.994811; Valid Acc 0.981149\n",
            "Epoch 17; Loss 0.032475; Train Acc 0.986581; Valid Acc 0.970377\n",
            "Epoch 18; Loss 0.000604; Train Acc 0.995885; Valid Acc 0.982047\n",
            "Epoch 19; Loss 0.001132; Train Acc 0.996958; Valid Acc 0.983842\n",
            "Epoch 20; Loss 0.006088; Train Acc 0.997137; Valid Acc 0.983842\n",
            "Epoch 21; Loss 0.000877; Train Acc 0.995885; Valid Acc 0.984740\n",
            "Epoch 22; Loss 0.001167; Train Acc 0.997316; Valid Acc 0.987433\n",
            "Epoch 23; Loss 0.009968; Train Acc 0.997674; Valid Acc 0.988330\n",
            "Epoch 24; Loss 0.006086; Train Acc 0.998390; Valid Acc 0.980251\n",
            "Epoch 25; Loss 0.000076; Train Acc 0.998926; Valid Acc 0.986535\n",
            "Epoch 26; Loss 0.005476; Train Acc 0.999105; Valid Acc 0.984740\n",
            "Epoch 27; Loss 0.013086; Train Acc 0.999284; Valid Acc 0.984740\n",
            "Epoch 28; Loss 0.001101; Train Acc 0.998926; Valid Acc 0.984740\n",
            "Epoch 29; Loss 0.000192; Train Acc 0.998926; Valid Acc 0.986535\n",
            "Epoch 30; Loss 0.012097; Train Acc 0.999463; Valid Acc 0.985637\n",
            "Epoch 31; Loss 0.001694; Train Acc 0.999642; Valid Acc 0.985637\n",
            "Epoch 32; Loss 0.000008; Train Acc 0.999642; Valid Acc 0.987433\n",
            "Epoch 33; Loss 0.000960; Train Acc 0.999642; Valid Acc 0.986535\n",
            "Epoch 34; Loss 0.026341; Train Acc 0.965468; Valid Acc 0.979354\n",
            "Epoch 35; Loss 0.002141; Train Acc 0.999642; Valid Acc 0.984740\n",
            "Epoch 36; Loss 0.076422; Train Acc 0.999821; Valid Acc 0.984740\n",
            "Epoch 37; Loss 0.000177; Train Acc 0.999821; Valid Acc 0.984740\n",
            "Epoch 38; Loss 0.000014; Train Acc 0.999821; Valid Acc 0.984740\n",
            "Epoch 39; Loss 0.001252; Train Acc 0.999821; Valid Acc 0.984740\n",
            "Epoch 40; Loss 0.008671; Train Acc 0.999821; Valid Acc 0.985637\n",
            "Epoch 41; Loss 0.000116; Train Acc 0.998390; Valid Acc 0.982944\n",
            "Epoch 42; Loss 0.000063; Train Acc 0.999642; Valid Acc 0.984740\n",
            "Epoch 43; Loss 0.000260; Train Acc 0.999821; Valid Acc 0.985637\n",
            "Epoch 44; Loss 0.000026; Train Acc 0.999821; Valid Acc 0.984740\n",
            "Epoch 45; Loss 0.000081; Train Acc 0.999821; Valid Acc 0.982944\n",
            "Epoch 46; Loss 0.000060; Train Acc 1.000000; Valid Acc 0.983842\n",
            "Epoch 47; Loss 0.000080; Train Acc 1.000000; Valid Acc 0.983842\n",
            "Epoch 48; Loss 0.000017; Train Acc 0.999821; Valid Acc 0.985637\n",
            "Epoch 49; Loss 0.000964; Train Acc 1.000000; Valid Acc 0.982944\n"
          ]
        },
        {
          "output_type": "display_data",
          "data": {
            "text/plain": [
              "<Figure size 640x480 with 1 Axes>"
            ],
            "image/png": "[encoded data removed]"
          },
          "metadata": {}
        },
        {
          "output_type": "display_data",
          "data": {
            "text/plain": [
              "<Figure size 640x480 with 1 Axes>"
            ],
            "image/png": "[encoded data removed]"
          },
          "metadata": {}
        },
        {
          "output_type": "stream",
          "name": "stdout",
          "text": [
            "TP 136 TN 959 FP 6 FN 13\n",
            "False Positive Rate 0.0062176165803108805\n",
            "False Negative Rate 0.087248322147651\n",
            "Recall 0.912751677852349\n",
            "Precision 0.9577464788732394\n",
            "F1 Score 0.9347079037800687\n",
            "Total Number of Parameters 59759534\n"
          ]
        }
      ],
      "source": [
        "random.seed(69)\n",
        "torch.manual_seed(420)\n",
        "\n",
        "\n",
        "model = LSTMNet_3(50, len(vocab_c), 25, len(vocab_c) // 2,\n",
        "                  2, glove_vectors, num_layers_w=2, num_layers_c=2)\n",
        "if torch.cuda.is_available():\n",
        "    model.cuda()\n",
        "    print('CUDA is available! Training on GPU...')\n",
        "else:\n",
        "    print('CUDA is not available. Training on CPU...')\n",
        "\n",
        "train_network(model, train_loader, valid_loader, num_epochs=50, learning_rate=2e-4)\n",
        "\n",
        "get_scores(model, valid_loader)\n",
        "\n",
        "size = 0\n",
        "for param in model.parameters():\n",
        "    size += torch.numel(param)\n",
        "print('Total Number of Parameters', size)"
      ]
    },
    {
      "cell_type": "code",
      "execution_count": 27,
      "metadata": {
        "colab": {
          "base_uri": "https://localhost:8080/",
          "height": 1000
        },
        "id": "wBuQvTcV64UO",
        "outputId": "0a9f57a0-1f70-46b0-9050-19ad0ee735e8"
      },
      "outputs": [
        {
          "output_type": "display_data",
          "data": {
            "text/plain": [
              "<Figure size 640x480 with 1 Axes>"
            ],
            "image/png": "[encoded data removed]"
          },
          "metadata": {}
        },
        {
          "output_type": "display_data",
          "data": {
            "text/plain": [
              "<Figure size 640x480 with 1 Axes>"
            ],
            "image/png": "[encoded data removed]"
          },
          "metadata": {}
        },
        {
          "output_type": "stream",
          "name": "stdout",
          "text": [
            "Test Accuracy 0.9793536804308797\n",
            "TP 140 TN 961 FP 4 FN 9\n",
            "False Positive Rate 0.004145077720207254\n",
            "False Negative Rate 0.06040268456375839\n",
            "Recall 0.9395973154362416\n",
            "Precision 0.9722222222222222\n",
            "F1 Score 0.9556313993174061\n",
            "But let's just say it involves whipped cream and whipped cream\n",
            "Probability of Spam 0.001395990140736103\n",
            "Congratulations! You've won a $1,000 Walmart gift card. Go to https://bit.ly/123456 to claim now.\n",
            "Probability of Spam 0.9999388456344604\n"
          ]
        }
      ],
      "source": [
        "tuned_model = LSTMNet_3(50, len(vocab_c), 25, len(vocab_c) // 2,\n",
        "                  2, glove_vectors, num_layers_w=2, num_layers_c=2)\n",
        "if torch.cuda.is_available(): tuned_model.cuda()\n",
        "path = get_file_path('LSTM3', 'twi50', 16, 25, 2, 2e-4)\n",
        "tuned_model.load_state_dict(torch.load(path + '23'))\n",
        "\n",
        "plot_training_curves(path)\n",
        "\n",
        "print('Test Accuracy', get_accuracy(tuned_model, test_loader))\n",
        "\n",
        "get_scores(tuned_model, valid_loader)\n",
        "\n",
        "evaluate_sample_2('But let\\'s just say it involves whipped cream and whipped cream',\n",
        "                tuned_model, sentence_transform_w, sentence_transform_c)\n",
        "evaluate_sample_2('Congratulations! You\\'ve won a $1,000 Walmart gift card. Go to https://bit.ly/123456 to claim now.',\n",
        "                tuned_model, sentence_transform_w, sentence_transform_c)"
      ]
    }
  ],
  "metadata": {
    "colab": {
      "provenance": [],
      "gpuType": "T4"
    },
    "kernelspec": {
      "display_name": "Python 3",
      "name": "python3"
    },
    "language_info": {
      "name": "python"
    },
    "accelerator": "GPU"
  },
  "nbformat": 4,
  "nbformat_minor": 0
}
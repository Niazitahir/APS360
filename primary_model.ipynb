{
  "nbformat": 4,
  "nbformat_minor": 0,
  "metadata": {
    "colab": {
      "provenance": [],
      "gpuType": "T4"
    },
    "kernelspec": {
      "name": "python3",
      "display_name": "Python 3"
    },
    "language_info": {
      "name": "python"
    },
    "accelerator": "GPU"
  },
  "cells": [
    {
      "cell_type": "markdown",
      "source": [
        "# Retrieve Processed Data From GitHub\n",
        "\n",
        "\n",
        "*   Data Processing\n",
        "\n"
      ],
      "metadata": {
        "id": "ldoz8l5mTVLT"
      }
    },
    {
      "cell_type": "code",
      "execution_count": 1,
      "metadata": {
        "id": "H0Fn4K_pTRNb"
      },
      "outputs": [],
      "source": [
        "import requests\n",
        "import io\n",
        "import csv\n",
        "import torch\n",
        "\n",
        "\n",
        "def get_sentences():\n",
        "    urls = []\n",
        "    urls.append('https://raw.githubusercontent.com/Niazitahir/SMS_Spam_Detection_APS360/main/RawData/trainEncoded')\n",
        "    urls.append('https://raw.githubusercontent.com/Niazitahir/SMS_Spam_Detection_APS360/main/RawData/validEncoded')\n",
        "    urls.append('https://raw.githubusercontent.com/Niazitahir/SMS_Spam_Detection_APS360/main/RawData/testEncoded')\n",
        "    raws = [requests.get(u).text for u in urls]\n",
        "    separated = [csv.reader(io.StringIO(r)) for r in raws]\n",
        "    processed = [[], [], []]\n",
        "    for i in range(len(separated)):\n",
        "        for row in separated[i]:\n",
        "            idxs = row[2][1:-1].split(', ')\n",
        "            if idxs[0] == '': continue\n",
        "            idxs = list(map(int, idxs))\n",
        "            idxs = torch.tensor([i % 10000 for i in idxs])\n",
        "            label = torch.tensor(int(row[1] == '[76645]')).long()\n",
        "            processed[i].append((idxs, label))\n",
        "\n",
        "    return processed[0], processed[1], processed[2] # Train, valid, test as [(tensor([idx]), tensor(label))]"
      ]
    },
    {
      "cell_type": "code",
      "source": [
        "import requests\n",
        "import io\n",
        "import csv\n",
        "import torch\n",
        "\n",
        "\n",
        "def get_sentences_2(glove):\n",
        "    url = 'https://raw.githubusercontent.com/Niazitahir/SMS_Spam_Detection_APS360/main/RawData/sms%2Bspam%2Bcollection/SMSSpamCollection'\n",
        "    separated = csv.reader(io.StringIO(requests.get(url).text), delimiter='\\t')\n",
        "    spam, ham = [], []\n",
        "    for row in separated:\n",
        "        sentence = row[1].replace('.', ' . ') \\\n",
        "            .replace(',', ' , ') \\\n",
        "            .replace(';', ' ; ') \\\n",
        "            .replace('?', ' ? ')\n",
        "        sentence = sentence.lower().split()\n",
        "        idxs = [glove.stoi[w] for w in sentence if w in glove.stoi]\n",
        "        if not idxs: continue\n",
        "        idxs = torch.tensor(idxs)\n",
        "        label = torch.tensor(int(row[0] == 'spam')).long()\n",
        "        if label.item() == 1:\n",
        "            spam.append((idxs, label))\n",
        "        elif label.item() == 0:\n",
        "            ham.append((idxs, label))\n",
        "\n",
        "    train, valid, test = [], [], []\n",
        "    for i, example in enumerate(spam):\n",
        "        if i % 5 < 3:\n",
        "            train.append(example)\n",
        "        elif i % 5 == 3:\n",
        "            valid.append(example)\n",
        "        else:\n",
        "            test.append(example)\n",
        "\n",
        "    train = [example for example in train for _ in range(6)]\n",
        "    for i, example in enumerate(ham):\n",
        "        if i % 5 < 3:\n",
        "            train.append(example)\n",
        "        elif i % 5 == 3:\n",
        "            valid.append(example)\n",
        "        else:\n",
        "            test.append(example)\n",
        "\n",
        "    return train, valid, test"
      ],
      "metadata": {
        "id": "Yr4eb_U1PqJP"
      },
      "execution_count": 2,
      "outputs": []
    },
    {
      "cell_type": "code",
      "source": [
        "import requests\n",
        "import io\n",
        "import csv\n",
        "import torch\n",
        "from torchtext.vocab import build_vocab_from_iterator\n",
        "from torch.nn.utils.rnn import pad_sequence\n",
        "from torch.utils.data import Sampler\n",
        "import random\n",
        "\n",
        "\n",
        "def get_sentences_3():\n",
        "    url = 'https://raw.githubusercontent.com/Niazitahir/SMS_Spam_Detection_APS360/main/RawData/sms%2Bspam%2Bcollection/SMSSpamCollection'\n",
        "    separated = csv.reader(io.StringIO(requests.get(url).text), delimiter='\\t')\n",
        "    spam, ham = [], []\n",
        "    for row in separated:\n",
        "        if row[1] == '': continue\n",
        "        label = int(row[0] == 'spam')\n",
        "        if label == 1:\n",
        "            spam.append((label, row[1]))\n",
        "        elif label == 0:\n",
        "            ham.append((label, row[1]))\n",
        "\n",
        "    train, valid, test = [], [], []\n",
        "    for i, example in enumerate(spam):\n",
        "        if i % 5 < 3:\n",
        "            train.append(example)\n",
        "        elif i % 5 == 3:\n",
        "            valid.append(example)\n",
        "        else:\n",
        "            test.append(example)\n",
        "\n",
        "    train = [example for example in train for _ in range(6)]\n",
        "    for i, example in enumerate(ham):\n",
        "        if i % 5 < 3:\n",
        "            train.append(example)\n",
        "        elif i % 5 == 3:\n",
        "            valid.append(example)\n",
        "        else:\n",
        "            test.append(example)\n",
        "\n",
        "    return train, valid, test\n",
        "\n",
        "\n",
        "def yield_tokens(sentences):\n",
        "    for _, sentence in sentences:\n",
        "        yield tokenizer(sentence)\n",
        "\n",
        "\n",
        "def get_vocab(sentences):\n",
        "    vocab = build_vocab_from_iterator(yield_tokens(sentences),\n",
        "                                      specials=['<UNK>', '<BOS>', '<EOS>', '<PAD>'],\n",
        "                                      max_tokens=20000)\n",
        "    vocab.set_default_index(vocab['<UNK>'])\n",
        "    return vocab\n",
        "\n",
        "\n",
        "def collate_batch(batch):\n",
        "    label_list, sentence_list = [], []\n",
        "    for (_label, _sentence) in batch:\n",
        "          label_list.append(_label)\n",
        "          sentence_list.append(torch.tensor(sentence_transform(_sentence)))\n",
        "    return torch.tensor(label_list), torch.transpose(pad_sequence(sentence_list, padding_value=3.0), 0, 1)\n",
        "\n",
        "\n",
        "class BatchSamplerSimilarLength(Sampler):\n",
        "    def __init__(self, sentences, batch_size, indices=None, shuffle=True):\n",
        "        self.batch_size = batch_size\n",
        "        self.shuffle = shuffle\n",
        "        self.indices = [(i, len(tokenizer(s[1]))) for i, s in enumerate(sentences)]\n",
        "        if indices is not None:\n",
        "            self.indices = torch.tensor(self.indices)[indices].tolist()\n",
        "\n",
        "\n",
        "    def __iter__(self):\n",
        "        if self.shuffle:\n",
        "            random.shuffle(self.indices)\n",
        "\n",
        "        pooled_indices = []\n",
        "        for i in range(0, len(self.indices), self.batch_size * 100):\n",
        "            pooled_indices.extend(sorted(self.indices[i:i + self.batch_size * 100], key=lambda x: x[1]))\n",
        "\n",
        "        self.pooled_indices = [x[0] for x in pooled_indices]\n",
        "        batches = [self.pooled_indices[i:i + self.batch_size] for i in\n",
        "                   range(0, len(self.pooled_indices), self.batch_size)]\n",
        "        if self.shuffle:\n",
        "            random.shuffle(batches)\n",
        "\n",
        "        for batch in batches:\n",
        "            yield batch\n",
        "\n",
        "\n",
        "    def __len__(self):\n",
        "        return len(self.pooled_indices) // self.batch_size"
      ],
      "metadata": {
        "id": "Vtm732gm-hWh"
      },
      "execution_count": 3,
      "outputs": []
    },
    {
      "cell_type": "code",
      "source": [
        "from torchtext.data.utils import get_tokenizer\n",
        "from torch.utils.data import DataLoader\n",
        "\n",
        "\n",
        "train, valid, test = get_sentences_3()\n",
        "\n",
        "tokenizer = get_tokenizer(lambda x: list(x))\n",
        "\n",
        "vocab = get_vocab(train)\n",
        "\n",
        "sentence_transform = lambda x: [vocab['<BOS>']] + [vocab[token] for token in tokenizer(x)] + [vocab['<EOS>']]\n",
        "\n",
        "train_loader = DataLoader(train, batch_sampler=BatchSamplerSimilarLength(\n",
        "    sentences=train,\n",
        "    batch_size=8), collate_fn=collate_batch)"
      ],
      "metadata": {
        "id": "zl07yVMIIL57"
      },
      "execution_count": 4,
      "outputs": []
    },
    {
      "cell_type": "markdown",
      "source": [
        "# Create GRU and LSTM Network Models"
      ],
      "metadata": {
        "id": "X04Jtrvuf2Pg"
      }
    },
    {
      "cell_type": "code",
      "source": [
        "import torch.nn as nn\n",
        "\n",
        "\n",
        "class GRUNet(nn.Module):\n",
        "    def __init__(self, input_size, hidden_size, num_classes, glove, num_layers=1):\n",
        "        super(GRUNet, self).__init__()\n",
        "        self.name = 'GRU'\n",
        "        self.hidden_size = hidden_size\n",
        "        self.num_layers = num_layers\n",
        "        self.emb = nn.Embedding.from_pretrained(glove.vectors)\n",
        "        self.rnn = nn.GRU(input_size, hidden_size, num_layers, batch_first=True)\n",
        "        self.fc = nn.Linear(hidden_size, num_classes)\n",
        "\n",
        "\n",
        "    def forward(self, x, hidden=None):\n",
        "        x = self.emb(x)\n",
        "        out, _ = self.rnn(x, hidden)\n",
        "        out = self.fc(out[:, -1, :])\n",
        "        return out\n",
        "\n",
        "\n",
        "class LSTMNet(nn.Module):\n",
        "    def __init__(self, input_size, hidden_size, num_classes, glove, num_layers=1):\n",
        "        super(LSTMNet, self).__init__()\n",
        "        self.name = 'LSTM'\n",
        "        self.hidden_size = hidden_size\n",
        "        self.num_layers = num_layers\n",
        "        self.emb = nn.Embedding.from_pretrained(glove.vectors)\n",
        "        self.rnn = nn.LSTM(input_size, hidden_size, num_layers, batch_first=True)\n",
        "        self.fc = nn.Linear(hidden_size, num_classes)\n",
        "\n",
        "\n",
        "    def forward(self, x, h0c0=None):\n",
        "        x = self.emb(x)\n",
        "        out, _ = self.rnn(x, h0c0)\n",
        "        out = self.fc(out[:, -1, :])\n",
        "        return out\n",
        "\n",
        "\n",
        "class LSTMNet_2(nn.Module):\n",
        "    def __init__(self, input_size, hidden_size, num_classes, glove, num_layers=1):\n",
        "        super(LSTMNet_2, self).__init__()\n",
        "        self.name = 'LSTM'\n",
        "        self.hidden_size = hidden_size\n",
        "        self.num_layers = num_layers\n",
        "        self.emb = nn.Embedding.from_pretrained(glove.vectors)\n",
        "        self.rnn = nn.LSTM(input_size, hidden_size, num_layers, batch_first=True)\n",
        "        self.fc = nn.Linear(hidden_size * 2, num_classes)\n",
        "\n",
        "\n",
        "    def forward(self, x, h0c0=None):\n",
        "        x = self.emb(x)\n",
        "        out, _ = self.rnn(x, h0c0)\n",
        "        out = torch.cat([torch.max(out, dim=1)[0], torch.mean(out, dim=1)], dim=1)\n",
        "        out = self.fc(out)\n",
        "        return out"
      ],
      "metadata": {
        "id": "_ew7AG8_qEAw"
      },
      "execution_count": 11,
      "outputs": []
    },
    {
      "cell_type": "markdown",
      "source": [
        "# Batch Data With Same Length Randomly"
      ],
      "metadata": {
        "id": "cYPVz2PxsL2y"
      }
    },
    {
      "cell_type": "code",
      "source": [
        "import random\n",
        "\n",
        "\n",
        "class Batcher:\n",
        "    def __init__(self, sentences, batch_size=32, drop_last=False):\n",
        "        self.batch_size = batch_size\n",
        "        self.sentences_by_length = {}\n",
        "        for sentence, label in sentences:\n",
        "            len = sentence.size(0)\n",
        "            if len not in self.sentences_by_length:\n",
        "                self.sentences_by_length[len] = []\n",
        "\n",
        "            self.sentences_by_length[len].append((sentence, label))\n",
        "\n",
        "        self.loaders = {len: torch.utils.data.DataLoader(\n",
        "                sentences,\n",
        "                batch_size=batch_size,\n",
        "                shuffle=True,\n",
        "                drop_last=drop_last)\n",
        "            for len, sentences in self.sentences_by_length.items()}\n",
        "\n",
        "\n",
        "    def __iter__(self):\n",
        "        iters = [iter(loader) for loader in self.loaders.values()]\n",
        "        while iters:\n",
        "            it = random.choice(iters)\n",
        "            try:\n",
        "                yield next(it)\n",
        "\n",
        "            except StopIteration:\n",
        "                iters.remove(it)"
      ],
      "metadata": {
        "id": "Y19TPe86xTJf"
      },
      "execution_count": 31,
      "outputs": []
    },
    {
      "cell_type": "markdown",
      "source": [
        "# Evaluate Model Accuracy on Selected Data"
      ],
      "metadata": {
        "id": "lVeEiqIFunap"
      }
    },
    {
      "cell_type": "code",
      "source": [
        "def get_accuracy(model, loader):\n",
        "    correct, total = 0, 0\n",
        "    for sentences, labels in loader:\n",
        "        if torch.cuda.is_available():\n",
        "            sentences = sentences.cuda()\n",
        "            labels = labels.cuda()\n",
        "\n",
        "        output = model(sentences)\n",
        "        pred = output.max(1, keepdim=True)[1]\n",
        "        correct += pred.eq(labels.view_as(pred)).sum().item()\n",
        "        total += labels.size(0)\n",
        "\n",
        "    return correct / total"
      ],
      "metadata": {
        "id": "LdMCjDhg0py9"
      },
      "execution_count": 13,
      "outputs": []
    },
    {
      "cell_type": "markdown",
      "source": [
        "# Generate File Path to Save Network Model"
      ],
      "metadata": {
        "id": "LCq9ptWLHv81"
      }
    },
    {
      "cell_type": "code",
      "source": [
        "def get_file_path(name, glove, hidden_size, num_layers, batch_size, learning_rate):\n",
        "    path = '{0}_{1}_hs{2}_nl{3}_bs{4}_lr{5}_'.format(name,\n",
        "                                                     glove,\n",
        "                                                     hidden_size,\n",
        "                                                     num_layers,\n",
        "                                                     batch_size,\n",
        "                                                     learning_rate)\n",
        "    return '/content/drive/MyDrive/Colab/' + path"
      ],
      "metadata": {
        "id": "NcWnpEzRHvnQ"
      },
      "execution_count": 14,
      "outputs": []
    },
    {
      "cell_type": "markdown",
      "source": [
        "# Train Network Model\n",
        "\n",
        "\n",
        "*   https://stackoverflow.com/questions/48714407/rnn-regularization-which-component-to-regularize\n",
        "\n"
      ],
      "metadata": {
        "id": "EF3RZSwJzhwY"
      }
    },
    {
      "cell_type": "code",
      "source": [
        "import torch.optim as optim\n",
        "import numpy as np\n",
        "import matplotlib.pyplot as plt\n",
        "\n",
        "\n",
        "def train_network(model, train, valid, num_epochs=5, learning_rate=1e-5):\n",
        "    criterion = nn.CrossEntropyLoss()\n",
        "    optimizer = optim.Adam(model.parameters(), lr=learning_rate)\n",
        "    losses, train_acc, valid_acc = [], [], []\n",
        "    for epoch in range(num_epochs):\n",
        "        for sentences, labels in train:\n",
        "            if torch.cuda.is_available():\n",
        "                sentences = sentences.cuda()\n",
        "                labels = labels.cuda()\n",
        "\n",
        "            optimizer.zero_grad()\n",
        "            pred = model(sentences)\n",
        "            loss = criterion(pred, labels)\n",
        "            loss.backward()\n",
        "            optimizer.step()\n",
        "\n",
        "        losses.append(float(loss))\n",
        "        train_acc.append(get_accuracy(model, train))\n",
        "        valid_acc.append(get_accuracy(model, valid))\n",
        "        print('Epoch %d; Loss %f; Train Acc %f; Valid Acc %f' % (\n",
        "            epoch, loss, train_acc[-1], valid_acc[-1]))\n",
        "        path = get_file_path(model.name,\n",
        "                             '6B50',\n",
        "                             model.hidden_size,\n",
        "                             model.num_layers,\n",
        "                             train.batch_size,\n",
        "                             learning_rate)\n",
        "        torch.save(model.state_dict(), path + str(epoch))\n",
        "\n",
        "    np.savetxt('{}losses.csv'.format(path), losses)\n",
        "    np.savetxt('{}train.csv'.format(path), train_acc)\n",
        "    np.savetxt('{}valid.csv'.format(path), valid_acc)\n",
        "\n",
        "    plt.title('Loss Curve')\n",
        "    plt.plot(losses, label='Training')\n",
        "    plt.xlabel('Epoch')\n",
        "    plt.ylabel('Loss')\n",
        "    plt.show()\n",
        "\n",
        "    plt.title('Accuracy Curve')\n",
        "    plt.plot(train_acc, label='Training')\n",
        "    plt.plot(valid_acc, label='Validation')\n",
        "    plt.xlabel('Epoch')\n",
        "    plt.ylabel('Accuracy')\n",
        "    plt.legend(loc='best')\n",
        "    plt.show()"
      ],
      "metadata": {
        "id": "BgbuDk7P0t38"
      },
      "execution_count": 29,
      "outputs": []
    },
    {
      "cell_type": "markdown",
      "source": [
        "# Evaluate Network Model"
      ],
      "metadata": {
        "id": "fI0k-KmFTWdh"
      }
    },
    {
      "cell_type": "code",
      "source": [
        "def get_scores(model, loader):\n",
        "    tp, tn, fp, fn = 0, 0, 0, 0\n",
        "    for sentences, labels in loader:\n",
        "        if torch.cuda.is_available():\n",
        "            sentences = sentences.cuda()\n",
        "            labels = labels.cuda()\n",
        "\n",
        "        output = model(sentences)\n",
        "        pred = output.max(1, keepdim=True)[1]\n",
        "        results = pred * 2 + labels.view_as(pred)\n",
        "        tp += results.eq(3).sum().item()\n",
        "        tn += results.eq(0).sum().item()\n",
        "        fp += results.eq(2).sum().item()\n",
        "        fn += results.eq(1).sum().item()\n",
        "\n",
        "    print('TP', tp, 'TN', tn, 'FP', fp, 'FN', fn)\n",
        "    print('False Positive Rate', fp / (fp + tn))\n",
        "    print('False Negative Rate', fn / (fn + tp))\n",
        "    recall = tp / (tp + fn)\n",
        "    precision = tp / (tp + fp)\n",
        "    print('Recall', recall)\n",
        "    print('Precision', precision)\n",
        "    print('F1 Score', 2 * recall * precision / (recall + precision))"
      ],
      "metadata": {
        "id": "rumPngaLTbJ9"
      },
      "execution_count": 16,
      "outputs": []
    },
    {
      "cell_type": "markdown",
      "source": [
        "# Create Objects and Run Functions"
      ],
      "metadata": {
        "id": "7xQC45b4qNHG"
      }
    },
    {
      "cell_type": "code",
      "source": [
        "from google.colab import drive\n",
        "drive.mount('/content/drive')"
      ],
      "metadata": {
        "colab": {
          "base_uri": "https://localhost:8080/"
        },
        "id": "jKWpSIPk8WS0",
        "outputId": "8922fc6d-a948-4dc3-dadd-d4709d98ffaa"
      },
      "execution_count": 17,
      "outputs": [
        {
          "output_type": "stream",
          "name": "stdout",
          "text": [
            "Mounted at /content/drive\n"
          ]
        }
      ]
    },
    {
      "cell_type": "code",
      "source": [
        "import torchtext\n",
        "\n",
        "\n",
        "!nvidia-smi\n",
        "\n",
        "random.seed(69)\n",
        "torch.manual_seed(420)\n",
        "\n",
        "glove = torchtext.vocab.GloVe(name='6B', dim=50, max_vectors=10000)\n",
        "\n",
        "model = LSTMNet_2(50, 50, 2, glove, num_layers=4)\n",
        "if torch.cuda.is_available():\n",
        "    model.cuda()\n",
        "    print('CUDA is available! Training on GPU...')\n",
        "else:\n",
        "    print('CUDA is not available. Training on CPU...')\n",
        "\n",
        "train, valid, test = get_sentences_2(glove)\n",
        "\n",
        "train_loader = Batcher(train, batch_size=32, drop_last=False)\n",
        "valid_loader = Batcher(valid, batch_size=64, drop_last=False)\n",
        "test_loader = Batcher(test, batch_size=64, drop_last=False)\n",
        "\n",
        "train_network(model, train_loader, valid_loader, num_epochs=20, learning_rate=1e-4)\n",
        "\n",
        "get_scores(model, valid_loader)\n",
        "\n",
        "size = 0\n",
        "for param in model.parameters():\n",
        "    size += torch.numel(param)\n",
        "print('Total Number of Parameters', size)"
      ],
      "metadata": {
        "colab": {
          "base_uri": "https://localhost:8080/",
          "height": 1000
        },
        "id": "L3JH1nnXZyZY",
        "outputId": "a40259ee-59e8-4284-97a5-4e4884a8ba0e"
      },
      "execution_count": 32,
      "outputs": [
        {
          "output_type": "stream",
          "name": "stdout",
          "text": [
            "Mon Apr  1 16:11:38 2024       \n",
            "+---------------------------------------------------------------------------------------+\n",
            "| NVIDIA-SMI 535.104.05             Driver Version: 535.104.05   CUDA Version: 12.2     |\n",
            "|-----------------------------------------+----------------------+----------------------+\n",
            "| GPU  Name                 Persistence-M | Bus-Id        Disp.A | Volatile Uncorr. ECC |\n",
            "| Fan  Temp   Perf          Pwr:Usage/Cap |         Memory-Usage | GPU-Util  Compute M. |\n",
            "|                                         |                      |               MIG M. |\n",
            "|=========================================+======================+======================|\n",
            "|   0  Tesla T4                       Off | 00000000:00:04.0 Off |                    0 |\n",
            "| N/A   77C    P0              36W /  70W |    333MiB / 15360MiB |      0%      Default |\n",
            "|                                         |                      |                  N/A |\n",
            "+-----------------------------------------+----------------------+----------------------+\n",
            "                                                                                         \n",
            "+---------------------------------------------------------------------------------------+\n",
            "| Processes:                                                                            |\n",
            "|  GPU   GI   CI        PID   Type   Process name                            GPU Memory |\n",
            "|        ID   ID                                                             Usage      |\n",
            "|=======================================================================================|\n",
            "+---------------------------------------------------------------------------------------+\n",
            "CUDA is available! Training on GPU...\n",
            "Epoch 0; Loss 0.755557; Train Acc 0.518319; Valid Acc 0.865887\n",
            "Epoch 1; Loss 0.334893; Train Acc 0.843211; Valid Acc 0.852385\n",
            "Epoch 2; Loss 0.080777; Train Acc 0.881645; Valid Acc 0.856886\n",
            "Epoch 3; Loss 0.076273; Train Acc 0.897270; Valid Acc 0.870387\n",
            "Epoch 4; Loss 0.410663; Train Acc 0.913614; Valid Acc 0.892889\n",
            "Epoch 5; Loss 0.246276; Train Acc 0.914871; Valid Acc 0.890189\n",
            "Epoch 6; Loss 0.101514; Train Acc 0.921695; Valid Acc 0.905491\n",
            "Epoch 7; Loss 0.147176; Train Acc 0.924749; Valid Acc 0.900090\n",
            "Epoch 8; Loss 0.034547; Train Acc 0.924928; Valid Acc 0.936994\n",
            "Epoch 9; Loss 0.112063; Train Acc 0.930496; Valid Acc 0.909091\n",
            "Epoch 10; Loss 0.101313; Train Acc 0.933190; Valid Acc 0.920792\n",
            "Epoch 11; Loss 0.188269; Train Acc 0.934088; Valid Acc 0.901890\n",
            "Epoch 12; Loss 0.265619; Train Acc 0.933549; Valid Acc 0.900990\n",
            "Epoch 13; Loss 0.207261; Train Acc 0.941272; Valid Acc 0.932493\n",
            "Epoch 14; Loss 0.062577; Train Acc 0.942708; Valid Acc 0.936994\n",
            "Epoch 15; Loss 0.010342; Train Acc 0.934267; Valid Acc 0.954095\n",
            "Epoch 16; Loss 0.021073; Train Acc 0.947198; Valid Acc 0.945095\n",
            "Epoch 17; Loss 0.067046; Train Acc 0.948276; Valid Acc 0.938794\n",
            "Epoch 18; Loss 0.028794; Train Acc 0.949174; Valid Acc 0.954995\n",
            "Epoch 19; Loss 0.136739; Train Acc 0.953664; Valid Acc 0.954095\n"
          ]
        },
        {
          "output_type": "display_data",
          "data": {
            "text/plain": [
              "<Figure size 640x480 with 1 Axes>"
            ],
            "image/png": "[encoded data removed]"
          },
          "metadata": {}
        },
        {
          "output_type": "display_data",
          "data": {
            "text/plain": [
              "<Figure size 640x480 with 1 Axes>"
            ],
            "image/png": "[encoded data removed]"
          },
          "metadata": {}
        },
        {
          "output_type": "stream",
          "name": "stdout",
          "text": [
            "TP 139 TN 921 FP 41 FN 10\n",
            "False Positive Rate 0.04261954261954262\n",
            "False Negative Rate 0.06711409395973154\n",
            "Recall 0.9328859060402684\n",
            "Precision 0.7722222222222223\n",
            "F1 Score 0.8449848024316109\n",
            "Total Number of Parameters 581802\n"
          ]
        }
      ]
    },
    {
      "cell_type": "markdown",
      "source": [
        "# Plot Training Curves of Selected Network Model"
      ],
      "metadata": {
        "id": "xWB_13Oy-4-Y"
      }
    },
    {
      "cell_type": "code",
      "source": [
        "def plot_training_curves(path):\n",
        "    losses = np.loadtxt('{}losses.csv'.format(path))\n",
        "    train_acc = np.loadtxt('{}train.csv'.format(path))\n",
        "    valid_acc = np.loadtxt('{}valid.csv'.format(path))\n",
        "\n",
        "    plt.title('Loss Curve')\n",
        "    plt.plot(losses, label='Training')\n",
        "    plt.xlabel('Epoch')\n",
        "    plt.ylabel('Loss')\n",
        "    plt.show()\n",
        "\n",
        "    plt.title('Accuracy Curve')\n",
        "    plt.plot(train_acc, label='Training')\n",
        "    plt.plot(valid_acc, label='Validation')\n",
        "    plt.xlabel('Epoch')\n",
        "    plt.ylabel('Accuracy')\n",
        "    plt.legend(loc='best')\n",
        "    plt.show()"
      ],
      "metadata": {
        "id": "9mnRFEpL-3w9"
      },
      "execution_count": 21,
      "outputs": []
    },
    {
      "cell_type": "markdown",
      "source": [
        "# Detect Spam on Sample SMS Message"
      ],
      "metadata": {
        "id": "3K8M-6dH3tkm"
      }
    },
    {
      "cell_type": "code",
      "source": [
        "import torch.nn.functional as F\n",
        "\n",
        "\n",
        "def evaluate_sample(sample, model, glove):\n",
        "    sentence = sample.replace('.', ' . ') \\\n",
        "        .replace(',', ' , ') \\\n",
        "        .replace(';', ' ; ') \\\n",
        "        .replace('?', ' ? ')\n",
        "    sentence = sentence.lower().split()\n",
        "    idxs = torch.tensor([glove.stoi[w] for w in sentence if w in glove.stoi])\n",
        "    if torch.cuda.is_available(): idxs = idxs.cuda()\n",
        "    pred = model(idxs.unsqueeze(0))\n",
        "    pred = F.softmax(pred, dim=1)[0, 1].item()\n",
        "    print(sample)\n",
        "    print('Probability of Spam', pred)"
      ],
      "metadata": {
        "id": "eHyL-5USiE4A"
      },
      "execution_count": 22,
      "outputs": []
    },
    {
      "cell_type": "markdown",
      "source": [
        "# Create More Objects and Run More Functions"
      ],
      "metadata": {
        "id": "5V48eT5iGDpY"
      }
    },
    {
      "cell_type": "code",
      "source": [
        "tuned_model = LSTMNet_2(50, 50, 2, glove, num_layers=4)\n",
        "if torch.cuda.is_available(): tuned_model.cuda()\n",
        "path = get_file_path('LSTM',\n",
        "                     '6B50',\n",
        "                     50,\n",
        "                     4,\n",
        "                     32,\n",
        "                     1e-4)\n",
        "tuned_model.load_state_dict(torch.load(path + '19'))\n",
        "\n",
        "plot_training_curves(path)\n",
        "\n",
        "evaluate_sample('But let\\'s just say it involves whipped cream and whipped cream', tuned_model, glove)\n",
        "evaluate_sample('Congratulations! You’ve won a $500 Amazon gift card. Claim it here: tinyurl.com/sfcu6xxr', tuned_model, glove)"
      ],
      "metadata": {
        "colab": {
          "base_uri": "https://localhost:8080/",
          "height": 998
        },
        "id": "wBuQvTcV64UO",
        "outputId": "b42eb8b0-19f4-480c-d0df-597cfd2ede72"
      },
      "execution_count": 33,
      "outputs": [
        {
          "output_type": "display_data",
          "data": {
            "text/plain": [
              "<Figure size 640x480 with 1 Axes>"
            ],
            "image/png": "[encoded data removed]"
          },
          "metadata": {}
        },
        {
          "output_type": "display_data",
          "data": {
            "text/plain": [
              "<Figure size 640x480 with 1 Axes>"
            ],
            "image/png": "[encoded data removed]"
          },
          "metadata": {}
        },
        {
          "output_type": "stream",
          "name": "stdout",
          "text": [
            "But let's just say it involves whipped cream and whipped cream\n",
            "Probability of Spam 0.0019836691208183765\n",
            "Congratulations! You’ve won a $500 Amazon gift card. Claim it here: tinyurl.com/sfcu6xxr\n",
            "Probability of Spam 0.9935537576675415\n"
          ]
        }
      ]
    }
  ]
}